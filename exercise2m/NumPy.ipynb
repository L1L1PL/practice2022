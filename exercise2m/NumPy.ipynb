{
 "cells": [
  {
   "cell_type": "code",
   "execution_count": 8,
   "id": "0587fd57",
   "metadata": {},
   "outputs": [],
   "source": [
    "import numpy as np\n",
    "from numpy import genfromtxt\n",
    "import pandas as pd"
   ]
  },
  {
   "cell_type": "code",
   "execution_count": 40,
   "id": "eca90570",
   "metadata": {},
   "outputs": [],
   "source": [
    "file = genfromtxt('sample.csv', delimiter=',', dtype= None ) #открываю файл чтобы читался\n",
    "otkl = np.std(file, axis=1, keepdims=True) #считаю отклонение\n",
    "otkl = np.around(otkl, decimals = 2) #округляю его до сотых \n",
    "#print(otkl)\n",
    "srednee = np.mean(file, axis=1, keepdims=True) #считаю среднее\n",
    "srednee = np.around(srednee, decimals = 2) #округляю до сотых\n",
    "#print(srednee)\n",
    "\n",
    "df = pd.DataFrame(srednee, columns=['mean']) #Создаю датафрейм тк по мне так удобнее и нагляднее\n",
    "df_2 = pd.DataFrame(otkl, columns=['deflection']) \n",
    "df['deflection'] = df_2 #добавляю столбец\n",
    "df = df.loc[df['deflection'] < 250] #убираю значения отклонения меньше 250\n",
    "#print(df)"
   ]
  },
  {
   "cell_type": "code",
   "execution_count": 39,
   "id": "5c862485",
   "metadata": {},
   "outputs": [],
   "source": [
    "with open('output.txt', 'w') as f: #записываю все в файл\n",
    "    dfAsString = df.to_string(header=False, index=True)\n",
    "    f.write(dfAsString)"
   ]
  }
 ],
 "metadata": {
  "kernelspec": {
   "display_name": "Python 3 (ipykernel)",
   "language": "python",
   "name": "python3"
  },
  "language_info": {
   "codemirror_mode": {
    "name": "ipython",
    "version": 3
   },
   "file_extension": ".py",
   "mimetype": "text/x-python",
   "name": "python",
   "nbconvert_exporter": "python",
   "pygments_lexer": "ipython3",
   "version": "3.10.7"
  }
 },
 "nbformat": 4,
 "nbformat_minor": 5
}
